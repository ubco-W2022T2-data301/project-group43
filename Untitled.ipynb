{
 "cells": [
  {
   "cell_type": "code",
   "execution_count": null,
   "id": "1b09e624-35a2-48d9-8367-d711ec05257f",
   "metadata": {},
   "outputs": [],
   "source": [
    "import pandas as pd "
   ]
  },
  {
   "cell_type": "code",
   "execution_count": null,
   "id": "48ba37ce-01e9-4af2-a3b8-b5cc5a84ba27",
   "metadata": {},
   "outputs": [],
   "source": []
  }
 ],
 "metadata": {
  "kernelspec": {
   "display_name": "Python 3 (ipykernel)",
   "language": "python",
   "name": "python3"
  }
 },
 "nbformat": 4,
 "nbformat_minor": 5
}
